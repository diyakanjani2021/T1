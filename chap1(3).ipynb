{
 "cells": [
  {
   "cell_type": "code",
   "execution_count": 2,
   "metadata": {},
   "outputs": [
    {
     "name": "stdout",
     "output_type": "stream",
     "text": [
      "a>b is False\n",
      "a<b is True\n",
      "a>=b is False\n",
      "a<=b is True\n",
      "a==b is False\n",
      "a!=b is True\n"
     ]
    }
   ],
   "source": [
    "#comparison/relational operator\n",
    "a=10\n",
    "b=20\n",
    "print(\"a>b is\",a>b)\n",
    "print(\"a<b is\",a<b)\n",
    "print(\"a>=b is\",a>=b)\n",
    "print(\"a<=b is\",a<=b)\n",
    "print(\"a==b is\",a==b)\n",
    "print(\"a!=b is\",a!=b)"
   ]
  },
  {
   "cell_type": "code",
   "execution_count": 6,
   "metadata": {},
   "outputs": [
    {
     "name": "stdout",
     "output_type": "stream",
     "text": [
      "a>b is False\n",
      "a<b is True\n",
      "a>=b is False\n",
      "a<=b is True\n",
      "a==b is False\n",
      "a!=b is True\n"
     ]
    }
   ],
   "source": [
    "#comparison/relational operator\n",
    "a=\"Armanxyz\"\n",
    "b=\"Aryan\"\n",
    "print(\"a>b is\",a>b)\n",
    "print(\"a<b is\",a<b)\n",
    "print(\"a>=b is\",a>=b)\n",
    "print(\"a<=b is\",a<=b)\n",
    "print(\"a==b is\",a==b)\n",
    "print(\"a!=b is\",a!=b)"
   ]
  },
  {
   "cell_type": "code",
   "execution_count": 7,
   "metadata": {},
   "outputs": [
    {
     "name": "stdout",
     "output_type": "stream",
     "text": [
      "True\n",
      "True\n",
      "False\n",
      "True\n",
      "False\n"
     ]
    }
   ],
   "source": [
    "#comparison/relational operator\n",
    "print(True>=True)\n",
    "print(10>True)\n",
    "print(False>True)\n",
    "print(10<20<30)\n",
    "print(10<20<30<40>50)"
   ]
  },
  {
   "cell_type": "markdown",
   "metadata": {},
   "source": [
    "# logical operators\n"
   ]
  },
  {
   "cell_type": "markdown",
   "metadata": {},
   "source": [
    "1. for boolean type behaviour\n",
    "\n",
    "and : if both are true ,result is true\n",
    "\n",
    "or : if atleast one arguement is true, result is true\n",
    "\n",
    "not : complement"
   ]
  },
  {
   "cell_type": "code",
   "execution_count": 8,
   "metadata": {},
   "outputs": [
    {
     "name": "stdout",
     "output_type": "stream",
     "text": [
      "False\n",
      "True\n",
      "False\n",
      "True\n"
     ]
    }
   ],
   "source": [
    "print(True and False)\n",
    "print(True or False)\n",
    "print(not True)\n",
    "print(not False)"
   ]
  },
  {
   "cell_type": "markdown",
   "metadata": {},
   "source": [
    "2. for non boolean type behaviour; 0 means false ,nonzero means true,empty string false\n",
    "\n",
    "and(X and Y) : if X evaluates to False return X otherwise return Y \n",
    "\n",
    "or(X and Y) : if X evaluates to True result is X otherwise Y \n",
    "\n",
    "not(X and Y) : if X evaluates to False result is True otherwise False "
   ]
  },
  {
   "cell_type": "code",
   "execution_count": 9,
   "metadata": {},
   "outputs": [
    {
     "name": "stdout",
     "output_type": "stream",
     "text": [
      "20\n",
      "0\n",
      "10\n",
      "20\n",
      "False\n",
      "True\n"
     ]
    }
   ],
   "source": [
    "print(10 and 20)\n",
    "print(0 and 20)\n",
    "print(10 or 20)\n",
    "print(0 or 20)\n",
    "print(not 10)\n",
    "print(not 0)"
   ]
  },
  {
   "cell_type": "markdown",
   "metadata": {},
   "source": [
    "ternary or conditional operator\n",
    "----\n",
    "syntax:\n",
    "\n",
    "- x = first value if condition else second value"
   ]
  },
  {
   "cell_type": "code",
   "execution_count": 10,
   "metadata": {},
   "outputs": [
    {
     "name": "stdout",
     "output_type": "stream",
     "text": [
      "50\n"
     ]
    }
   ],
   "source": [
    "a=30\n",
    "b=20\n",
    "x=50 if a>b else 60\n",
    "print(x)"
   ]
  },
  {
   "cell_type": "code",
   "execution_count": 13,
   "metadata": {},
   "outputs": [
    {
     "name": "stdout",
     "output_type": "stream",
     "text": [
      "Enter data for age:12\n",
      "minor\n"
     ]
    }
   ],
   "source": [
    "age=int(input(\"Enter data for age:\"))\n",
    "x=\"Adult\" if age>18 else \"minor\"\n",
    "print(x)"
   ]
  },
  {
   "cell_type": "markdown",
   "metadata": {},
   "source": [
    "assignment operators:\n",
    "---------\n",
    "- = eg: x=10\n",
    "- += eg: x+=20 ,x=x+20\n",
    "- -= eg: x-=10 ,x=x-10\n",
    "- *= eg: x*=2 ,x=x*2\n",
    "- /= eg: x/=5 ,x=x/5\n",
    "- //= eg: x//=10 ,x=x//10\n",
    "- %= eg: x%=2 ,x=x%2\n",
    "- ** = eg: x** =5 ,x=x** 5"
   ]
  },
  {
   "cell_type": "markdown",
   "metadata": {},
   "source": [
    "membership operators:\n",
    "--------------\n",
    "- in: returns true if given obj is present in specific collection\n",
    "- not in: returns true if given obj is not present in specific collection"
   ]
  },
  {
   "cell_type": "code",
   "execution_count": 15,
   "metadata": {},
   "outputs": [
    {
     "name": "stdout",
     "output_type": "stream",
     "text": [
      "True\n",
      "False\n",
      "True\n",
      "True\n"
     ]
    }
   ],
   "source": [
    "x=\"Hello,python is very easy\"\n",
    "print(\"l\" in x)\n",
    "print(\"d\" in x)\n",
    "print(\"d\" not in x)\n",
    "print(\"python\" in x)"
   ]
  },
  {
   "cell_type": "code",
   "execution_count": 18,
   "metadata": {},
   "outputs": [
    {
     "name": "stdout",
     "output_type": "stream",
     "text": [
      "True\n",
      "False\n",
      "True\n"
     ]
    }
   ],
   "source": [
    "a=[1,2,3,4,5]\n",
    "print(5 in a)\n",
    "print(15 in a)\n",
    "print(15 not in a)"
   ]
  },
  {
   "cell_type": "markdown",
   "metadata": {},
   "source": [
    "operator precedence\n",
    "---\n"
   ]
  },
  {
   "cell_type": "code",
   "execution_count": 20,
   "metadata": {},
   "outputs": [
    {
     "name": "stdout",
     "output_type": "stream",
     "text": [
      "23\n",
      "26\n",
      "100.0\n",
      "100.0\n",
      "70.0\n"
     ]
    }
   ],
   "source": [
    "print(3+10*2)\n",
    "print((3+10)*2)\n",
    "a=30\n",
    "b=20\n",
    "c=10\n",
    "d=5\n",
    "print((a+b)* c/d)\n",
    "print((a+b)* (c/d))\n",
    "print(a+(b*c)/d)"
   ]
  },
  {
   "cell_type": "code",
   "execution_count": 22,
   "metadata": {},
   "outputs": [
    {
     "name": "stdout",
     "output_type": "stream",
     "text": [
      "enter base b: 2\n",
      "enter base h: 4\n",
      "Area of triangle = 4.0\n"
     ]
    }
   ],
   "source": [
    "#ques: wap to find area of triangle\n",
    "b=int(input(\"enter base b: \"))\n",
    "h=int(input(\"enter base h: \"))\n",
    "print(\"Area of triangle =\",(0.5*b*h))"
   ]
  },
  {
   "cell_type": "code",
   "execution_count": 23,
   "metadata": {},
   "outputs": [
    {
     "name": "stdout",
     "output_type": "stream",
     "text": [
      "enter base r: 2\n",
      "Area of circle = 12.566370614359172\n"
     ]
    }
   ],
   "source": [
    "#ques: wap to find area of circle\n",
    "import math\n",
    "p=math.pi\n",
    "r=int(input(\"enter base r: \"))\n",
    "#print(\"Area of circle =\",3.14*(r**2))\n",
    "print(\"Area of circle =\",p*(r**2))"
   ]
  },
  {
   "cell_type": "code",
   "execution_count": 33,
   "metadata": {},
   "outputs": [
    {
     "name": "stdout",
     "output_type": "stream",
     "text": [
      "Before swap:a = 20 and b = 30\n",
      "After swap:a = 30 and b = 20\n"
     ]
    }
   ],
   "source": [
    "#ques: wap to swap value of 2 variables with 3rd variable\n",
    "a=20\n",
    "b=30\n",
    "print(\"Before swap:a =\",a,\"and b =\",b)\n",
    "c=a\n",
    "a=b\n",
    "b=c\n",
    "print(\"After swap:a =\",a,\"and b =\",b)"
   ]
  },
  {
   "cell_type": "code",
   "execution_count": 32,
   "metadata": {},
   "outputs": [
    {
     "name": "stdout",
     "output_type": "stream",
     "text": [
      "Before swap:a = 2 and b = 6\n",
      "After swap:a = 6 and b = 2\n"
     ]
    }
   ],
   "source": [
    "#ques: wap to swap value of 2 variables w/o 3rd variable\n",
    "a=2\n",
    "b=6\n",
    "print(\"Before swap:a =\",a,\"and b =\",b)\n",
    "a=a+b\n",
    "b=a-b\n",
    "a=a-b\n",
    "#a,b=b,a\n",
    "print(\"After swap:a =\",a,\"and b =\",b)"
   ]
  },
  {
   "cell_type": "code",
   "execution_count": 36,
   "metadata": {},
   "outputs": [
    {
     "name": "stdout",
     "output_type": "stream",
     "text": [
      "Enter celcius: 40\n",
      "farenheit =  104.0\n",
      "Enter farenheit: 104\n",
      "celcius =  40.0\n"
     ]
    }
   ],
   "source": [
    "#ques: wap to convert farenheit to celcius and vice versa\n",
    "c=int(input(\"Enter celcius: \"))\n",
    "print(\"farenheit = \",9*c/5 + 32)\n",
    "f=int(input(\"Enter farenheit: \"))\n",
    "print(\"celcius = \",(f-32)*(5/9))"
   ]
  },
  {
   "cell_type": "code",
   "execution_count": 45,
   "metadata": {},
   "outputs": [
    {
     "name": "stdout",
     "output_type": "stream",
     "text": [
      "enter no of days: 752\n",
      "2 years 0 months 22 days\n"
     ]
    }
   ],
   "source": [
    "#ques: wap to convert given days into year,month and days\n",
    "d=int(input(\"enter no of days: \"))\n",
    "y=d//365\n",
    "m=(d%365)//30\n",
    "d1=(d%365)%30\n",
    "print(y,\"years\" ,m, \"months\",d1 ,\"days\")"
   ]
  },
  {
   "cell_type": "code",
   "execution_count": 50,
   "metadata": {},
   "outputs": [
    {
     "name": "stdout",
     "output_type": "stream",
     "text": [
      "True\n",
      "True\n",
      "False\n",
      "True\n"
     ]
    }
   ],
   "source": [
    "a,b,c=20,10,30\n",
    "print(a>b and a<c)\n",
    "print(a>b or a>c)\n",
    "print(not a>b)\n",
    "print(not a>c)"
   ]
  },
  {
   "cell_type": "code",
   "execution_count": 52,
   "metadata": {},
   "outputs": [
    {
     "name": "stdout",
     "output_type": "stream",
     "text": [
      "True\n",
      "False\n",
      "True\n",
      "True\n",
      "True\n"
     ]
    }
   ],
   "source": [
    "x,y,z=5,5.3,5\n",
    "print(type(x) is int)\n",
    "print(type(y) is int)\n",
    "print(type(y) is float)\n",
    "print(x is z)\n",
    "print(x is not y)"
   ]
  },
  {
   "cell_type": "code",
   "execution_count": 56,
   "metadata": {},
   "outputs": [
    {
     "name": "stdout",
     "output_type": "stream",
     "text": [
      "Enter number: 7\n",
      "number is positive.\n"
     ]
    }
   ],
   "source": [
    "#ques: wap to check given no is +ve or -ve using conditional operator\n",
    "a=int(input(\"Enter number: \"))\n",
    "print(\"number is positive.\") if a>0 else print(\"number is negative.\")"
   ]
  },
  {
   "cell_type": "code",
   "execution_count": 59,
   "metadata": {},
   "outputs": [
    {
     "name": "stdout",
     "output_type": "stream",
     "text": [
      "Enter number: 7\n",
      "number is odd.\n"
     ]
    }
   ],
   "source": [
    "#ques: to check even or odd\n",
    "a=int(input(\"Enter number: \"))\n",
    "print(\"number is even.\") if (a%2==0) else print(\"number is odd.\")"
   ]
  },
  {
   "cell_type": "code",
   "execution_count": null,
   "metadata": {},
   "outputs": [],
   "source": [
    "#ques: wap to find the no of notes against a given amt\n",
    "a=int(input(\"enter amount: \"))"
   ]
  },
  {
   "cell_type": "code",
   "execution_count": 3,
   "metadata": {
    "scrolled": true
   },
   "outputs": [
    {
     "name": "stdout",
     "output_type": "stream",
     "text": [
      "True\n"
     ]
    },
    {
     "ename": "ZeroDivisionError",
     "evalue": "division by zero",
     "output_type": "error",
     "traceback": [
      "\u001b[1;31m---------------------------------------------------------------------------\u001b[0m",
      "\u001b[1;31mZeroDivisionError\u001b[0m                         Traceback (most recent call last)",
      "\u001b[1;32m<ipython-input-3-ec84ea515528>\u001b[0m in \u001b[0;36m<module>\u001b[1;34m\u001b[0m\n\u001b[0;32m      1\u001b[0m \u001b[0mprint\u001b[0m\u001b[1;33m(\u001b[0m\u001b[1;36m5\u001b[0m \u001b[1;32mand\u001b[0m \u001b[1;32mTrue\u001b[0m \u001b[1;32mor\u001b[0m \u001b[1;36m3\u001b[0m\u001b[1;33m/\u001b[0m\u001b[1;36m0\u001b[0m\u001b[1;33m)\u001b[0m\u001b[1;33m\u001b[0m\u001b[1;33m\u001b[0m\u001b[0m\n\u001b[1;32m----> 2\u001b[1;33m \u001b[0mprint\u001b[0m\u001b[1;33m(\u001b[0m\u001b[1;36m5\u001b[0m \u001b[1;32mand\u001b[0m \u001b[1;32mFalse\u001b[0m \u001b[1;32mor\u001b[0m \u001b[1;36m3\u001b[0m\u001b[1;33m/\u001b[0m\u001b[1;36m0\u001b[0m\u001b[1;33m)\u001b[0m\u001b[1;33m\u001b[0m\u001b[1;33m\u001b[0m\u001b[0m\n\u001b[0m",
      "\u001b[1;31mZeroDivisionError\u001b[0m: division by zero"
     ]
    }
   ],
   "source": [
    "print(5 and True or 3/0)\n",
    "print(5 and False or 3/0)"
   ]
  },
  {
   "cell_type": "code",
   "execution_count": 8,
   "metadata": {},
   "outputs": [
    {
     "name": "stdout",
     "output_type": "stream",
     "text": [
      "False\n"
     ]
    },
    {
     "data": {
      "text/plain": [
       "'False'"
      ]
     },
     "execution_count": 8,
     "metadata": {},
     "output_type": "execute_result"
    }
   ],
   "source": [
    "print(\"1\" in \"123\" and \"False\" or True)\n",
    "\"1\" in \"123\" and \"False\" or True"
   ]
  },
  {
   "cell_type": "code",
   "execution_count": 11,
   "metadata": {},
   "outputs": [
    {
     "name": "stdout",
     "output_type": "stream",
     "text": [
      "0.0\n",
      "20.0\n"
     ]
    }
   ],
   "source": [
    "print(7*5**2/True*False)\n",
    "print(10/(1*3/6))"
   ]
  }
 ],
 "metadata": {
  "kernelspec": {
   "display_name": "Python 3",
   "language": "python",
   "name": "python3"
  },
  "language_info": {
   "codemirror_mode": {
    "name": "ipython",
    "version": 3
   },
   "file_extension": ".py",
   "mimetype": "text/x-python",
   "name": "python",
   "nbconvert_exporter": "python",
   "pygments_lexer": "ipython3",
   "version": "3.8.5"
  }
 },
 "nbformat": 4,
 "nbformat_minor": 4
}
