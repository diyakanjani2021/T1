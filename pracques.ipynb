{
 "cells": [
  {
   "cell_type": "code",
   "execution_count": 3,
   "metadata": {},
   "outputs": [
    {
     "name": "stdout",
     "output_type": "stream",
     "text": [
      "Enter number: 13\n",
      "It's a happy number!!\n"
     ]
    }
   ],
   "source": [
    "#happy number\n",
    "a=int(input(\"Enter number: \"))\n",
    "while a!=1 and a!=4:\n",
    "    sum=0\n",
    "    for i in str(a):\n",
    "        sum+=int(i)**2\n",
    "    a=sum\n",
    "if a==1:\n",
    "    print(\"It's a happy number!!\")\n",
    "else:\n",
    "    print(\"It's not a happy number!!\")    "
   ]
  },
  {
   "cell_type": "code",
   "execution_count": 10,
   "metadata": {},
   "outputs": [
    {
     "name": "stdout",
     "output_type": "stream",
     "text": [
      "Enter number: 175\n",
      "175\n",
      "It's a disarium number\n"
     ]
    }
   ],
   "source": [
    "#wap to check if given number is disarium number or not\n",
    "a=int(input(\"Enter number: \"))\n",
    "l=0\n",
    "summ=0\n",
    "t=a\n",
    "a1=a\n",
    "for i in str(a):\n",
    "    l+=1\n",
    "for i in range(l,0,-1):\n",
    "    d=a1%10\n",
    "    summ+=(d**i)\n",
    "    a1//=10\n",
    "print(summ)\n",
    "if summ==t:\n",
    "    print(\"It's a disarium number\")\n",
    "else:\n",
    "    print(\"It's not a disarium number\")    "
   ]
  },
  {
   "cell_type": "code",
   "execution_count": 15,
   "metadata": {},
   "outputs": [
    {
     "name": "stdout",
     "output_type": "stream",
     "text": [
      "Enter grade level: a\n",
      "Enter city(1/2/3): 1\n",
      "Gross Pay = 110100.0\n",
      "Annual Income = 1321200.0\n",
      "After tax amount = 250000\n"
     ]
    }
   ],
   "source": [
    "#gross pay,annual income and incometax calculator\n",
    "grade=input(\"Enter grade level: \")\n",
    "city=int(input(\"Enter city(1/2/3): \"))\n",
    "bp,oa,hra,da,pf,it=0,0,0,0,0,0\n",
    "t=900\n",
    "prf=200\n",
    "if(grade=='a' or grade=='A'):\n",
    "    bp=60000\n",
    "    oa=8000\n",
    "elif(grade=='b' or grade=='B'):\n",
    "    bp=50000\n",
    "    oa=7000\n",
    "elif(grade=='c' or grade=='C'):\n",
    "    bp=40000\n",
    "    oa=6000\n",
    "elif(grade=='d' or grade=='D'):\n",
    "    bp=30000\n",
    "    oa=5000\n",
    "elif(grade=='e' or grade=='E'):\n",
    "    bp=20000\n",
    "    oa=4000\n",
    "elif(grade=='f' or grade=='F'):\n",
    "    bp=10000\n",
    "    oa=3000\n",
    "else:\n",
    "    print(\"Enter correct grade level!\")\n",
    "if city==1:\n",
    "    hra=0.3*bp\n",
    "elif city==2:\n",
    "    hra=0.2*bp\n",
    "elif city==3:\n",
    "    hra=0.1*bp\n",
    "else:\n",
    "    print(\"Enter correct city!\")\n",
    "gp=bp+hra+(0.5*bp)+oa+t-prf-(0.11*bp)\n",
    "print(\"Gross Pay =\",gp)\n",
    "ai=gp*12\n",
    "print(\"Annual Income =\",ai)\n",
    "if a1<=250000:\n",
    "    it=250000\n",
    "elif a1>250001 and a1<=500000:\n",
    "    it=(ai-250000)*0.05\n",
    "elif a1>500001 and a1<=750000:\n",
    "    it=(ai-500000)*0.1+12500\n",
    "elif a1>750001 and a1<=1000000:\n",
    "    it=(ai-750000)*0.15+37500\n",
    "elif a1>1000001 and a1<=1250000:\n",
    "    it=(ai-1000000)*0.20+75000\n",
    "elif a1>12500001 and a1<=1500000:\n",
    "    it=(ai-1250000)*0.25+125000\n",
    "else:\n",
    "    it=(ai-1500000)*0.3+187500\n",
    "print(\"After tax amount =\",it)"
   ]
  }
 ],
 "metadata": {
  "kernelspec": {
   "display_name": "Python 3",
   "language": "python",
   "name": "python3"
  },
  "language_info": {
   "codemirror_mode": {
    "name": "ipython",
    "version": 3
   },
   "file_extension": ".py",
   "mimetype": "text/x-python",
   "name": "python",
   "nbconvert_exporter": "python",
   "pygments_lexer": "ipython3",
   "version": "3.8.5"
  }
 },
 "nbformat": 4,
 "nbformat_minor": 4
}
