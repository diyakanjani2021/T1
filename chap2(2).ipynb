{
 "cells": [
  {
   "cell_type": "code",
   "execution_count": 5,
   "metadata": {},
   "outputs": [
    {
     "name": "stdout",
     "output_type": "stream",
     "text": [
      "Enter no of units: 400\n",
      "Bill =  2500\n"
     ]
    }
   ],
   "source": [
    "#wap to calculate electricity bill\n",
    "b=int(input(\"Enter no of units: \"))\n",
    "t=0\n",
    "if b<=100:\n",
    "    t=0\n",
    "elif t>100 and t<=200:\n",
    "    t=(b-100)*5\n",
    "else:\n",
    "    t=(100*5)+(b-200)*10\n",
    "print(\"Bill = \",t)"
   ]
  },
  {
   "cell_type": "code",
   "execution_count": 6,
   "metadata": {},
   "outputs": [
    {
     "name": "stdout",
     "output_type": "stream",
     "text": [
      "Enter number: 951\n",
      "It is a 3 digit number.\n",
      "Middle digit is: 5\n"
     ]
    }
   ],
   "source": [
    "#wap to check whether the entered number is 3 digit number or not. if it is 3 digit number display the middle digit\n",
    "n=int(input(\"Enter number: \"))\n",
    "l=0\n",
    "for i in str(n):\n",
    "    l+=1\n",
    "#print(\"Length = \",l)\n",
    "if(l!=3):\n",
    "    print(\"Enter 3 digit number only!\")\n",
    "else:\n",
    "    print(\"It is a 3 digit number.\")\n",
    "    print(\"Middle digit is:\",(n%100)//10) #(n//100)%10"
   ]
  },
  {
   "cell_type": "code",
   "execution_count": 7,
   "metadata": {},
   "outputs": [
    {
     "name": "stdout",
     "output_type": "stream",
     "text": [
      "Enter age: 10\n",
      "Enter gender: m\n",
      "Enter no of days: 12\n",
      "Enter appropriate age!!\n"
     ]
    }
   ],
   "source": [
    "'''wap to accept the age,gender and no of days amd display the wages according to the table. if age doesn't fall in any\n",
    "range then display the follg msg: enter appropriate age.'''\n",
    "a=int(input(\"Enter age: \"))\n",
    "g=input(\"Enter gender: \")\n",
    "n=int(input(\"Enter no of days: \"))\n",
    "w=0\n",
    "if a>=18 and a<30:\n",
    "    if g=='M' or g=='m':\n",
    "        w=700*n\n",
    "        print(\"Wage for \",n,\" days = \",w)\n",
    "    elif g=='F' or g=='f':\n",
    "        w=750*n\n",
    "        print(\"Wage for \",n,\" days = \",w)\n",
    "elif a>=30 and a<=40:\n",
    "    if g=='M' or g=='m':\n",
    "        w=800*n\n",
    "        print(\"Wage for \",n,\" days = \",w)\n",
    "    elif g=='F' or g=='f':\n",
    "        w=850*n\n",
    "        print(\"Wage for \",n,\" days = \",w)\n",
    "else:\n",
    "    print(\"Enter appropriate age!!\")"
   ]
  },
  {
   "cell_type": "code",
   "execution_count": 2,
   "metadata": {},
   "outputs": [
    {
     "name": "stdout",
     "output_type": "stream",
     "text": [
      "Enter number: 10\n",
      "Total =  55\n",
      "Average =  5.5\n"
     ]
    }
   ],
   "source": [
    "#wap to find sum of n numbers and also find the avg\n",
    "a=int(input(\"Enter number: \"))\n",
    "s=0\n",
    "for i in range(1,a+1):\n",
    "    s+=i\n",
    "print(\"Total = \",s)\n",
    "print(\"Average = \",s/a)"
   ]
  },
  {
   "cell_type": "code",
   "execution_count": 12,
   "metadata": {},
   "outputs": [
    {
     "name": "stdout",
     "output_type": "stream",
     "text": [
      "Enter number 1: 1\n",
      "Enter number 2: 20\n",
      "Enter number 3: 3\n",
      "Total count = 6\n"
     ]
    }
   ],
   "source": [
    "#wap to enter 3 nos. and check how many nos. available between first 2 nos. that are divisible by 3rd no\n",
    "n1=int(input(\"Enter number 1: \"))\n",
    "n2=int(input(\"Enter number 2: \"))\n",
    "n3=int(input(\"Enter number 3: \"))\n",
    "c=0\n",
    "for i in range(n1+1,n2):\n",
    "    if i%n3==0:\n",
    "        c+=1\n",
    "print(\"Total count =\",c)        "
   ]
  },
  {
   "cell_type": "code",
   "execution_count": 3,
   "metadata": {},
   "outputs": [
    {
     "name": "stdout",
     "output_type": "stream",
     "text": [
      "Enter number: 85\n",
      "85  *  1  =  85\n",
      "85  *  2  =  170\n",
      "85  *  3  =  255\n",
      "85  *  4  =  340\n",
      "85  *  5  =  425\n",
      "85  *  6  =  510\n",
      "85  *  7  =  595\n",
      "85  *  8  =  680\n",
      "85  *  9  =  765\n",
      "85  *  10  =  850\n"
     ]
    }
   ],
   "source": [
    "#wap to print multilication table of user given no\n",
    "a=int(input(\"Enter number: \"))\n",
    "for i in range(1,11):\n",
    "    print(a,\" * \",i ,\" = \",a*i)"
   ]
  },
  {
   "cell_type": "code",
   "execution_count": 15,
   "metadata": {},
   "outputs": [
    {
     "name": "stdout",
     "output_type": "stream",
     "text": [
      "Enter number: 8\n",
      "factorial =  40320\n"
     ]
    }
   ],
   "source": [
    "#wap to find factorial of a no\n",
    "a=int(input(\"Enter number: \"))\n",
    "f=1\n",
    "if a<0:\n",
    "    print(\"Enter positive number only!\")\n",
    "elif a==0 and a==1:\n",
    "    print(\"factorial = 1\")\n",
    "else:\n",
    "    for i in range(1,a+1):\n",
    "        f=f*i        \n",
    "print(\"factorial = \",f)"
   ]
  },
  {
   "cell_type": "code",
   "execution_count": 31,
   "metadata": {},
   "outputs": [
    {
     "name": "stdout",
     "output_type": "stream",
     "text": [
      "Enter number: 5\n",
      "Fibonacci series = \n",
      "0\n",
      "1\n",
      "1\n",
      "2\n",
      "3\n"
     ]
    }
   ],
   "source": [
    "#wap to display fibonacci sequence upto nth term\n",
    "a=int(input(\"Enter number: \"))\n",
    "n1=0\n",
    "n2=1\n",
    "if a<0:\n",
    "    print(\"Enter positive number only!\")\n",
    "elif a==0:\n",
    "    print(\"no terms!!\")\n",
    "elif a==1:\n",
    "    print(\"Fibonacci series = \",n1)\n",
    "else:\n",
    "    print(\"Fibonacci series = \")\n",
    "    print(n1)\n",
    "    print(n2)\n",
    "    for i in range(a-2):\n",
    "        n3=n1+n2\n",
    "        print(n3)\n",
    "        n1=n2\n",
    "        n2=n3"
   ]
  },
  {
   "cell_type": "code",
   "execution_count": 36,
   "metadata": {},
   "outputs": [
    {
     "name": "stdout",
     "output_type": "stream",
     "text": [
      "Enter number: 1\n",
      "Enter number: 2\n",
      "Enter number: 3\n",
      "Enter number: 4\n",
      "Enter number: 5\n",
      "Enter number: 6\n",
      "Enter number: 10\n",
      "Enter number: 7\n",
      "Enter number: 8\n",
      "Enter number: 9\n",
      "sum =  55  average =  5.5\n",
      "Even count=  5  sum of even nos=  30\n",
      "Odd count=  5  sum of odd nos=  25\n"
     ]
    }
   ],
   "source": [
    "#wap to take 10 nos from user and print their sum and avg\n",
    "s=0\n",
    "e,o,even,odd=0,0,0,0\n",
    "for i in range(10):\n",
    "    n=int(input(\"Enter number: \"))\n",
    "    if n%2==0:\n",
    "        even+=1\n",
    "        e=e+n\n",
    "    else:\n",
    "        odd+=1\n",
    "        o=o+n\n",
    "    s=s+n\n",
    "print(\"sum = \",s,\" average = \",s/10)\n",
    "print(\"Even count= \",even,\" sum of even nos= \",e)\n",
    "print(\"Odd count= \",odd,\" sum of odd nos= \",o)"
   ]
  },
  {
   "cell_type": "code",
   "execution_count": 4,
   "metadata": {},
   "outputs": [
    {
     "name": "stdout",
     "output_type": "stream",
     "text": [
      "Enter number: 9652\n",
      "Revresed no = 2569\n",
      "it is not palindrome\n"
     ]
    }
   ],
   "source": [
    "#wap to reverse and palindrome or not user given no\n",
    "n=int(input(\"Enter number: \"))\n",
    "n1=n\n",
    "rev=0\n",
    "while(n!=0):\n",
    "    r=n%10\n",
    "    rev=(rev*10)+r\n",
    "    n=n//10\n",
    "print(\"Revresed no =\",rev)\n",
    "if(rev==n1):\n",
    "    print(\"it is palindrome\")\n",
    "else:\n",
    "    print(\"it is not palindrome\")    "
   ]
  },
  {
   "cell_type": "code",
   "execution_count": 7,
   "metadata": {},
   "outputs": [
    {
     "name": "stdout",
     "output_type": "stream",
     "text": [
      "Enter number: 1634\n",
      "it is armstrong\n"
     ]
    }
   ],
   "source": [
    "#wap to find armstrong or not\n",
    "n=int(input(\"Enter number: \"))\n",
    "l=0\n",
    "for i in str(n):\n",
    "    l+=1\n",
    "n1=n\n",
    "sum=0\n",
    "while(n!=0):\n",
    "    r=n%10\n",
    "    sum=sum+(r**l)\n",
    "    n=n//10\n",
    "if(sum==n1):\n",
    "    print(\"it is armstrong\")\n",
    "else:\n",
    "    print(\"it is not armstrong\")    "
   ]
  },
  {
   "cell_type": "code",
   "execution_count": 4,
   "metadata": {},
   "outputs": [
    {
     "name": "stdout",
     "output_type": "stream",
     "text": [
      "Enter number: 3\n",
      "it is prime\n"
     ]
    }
   ],
   "source": [
    "#wap to check whether the given no is prime or not\n",
    "n=int(input(\"Enter number: \"))\n",
    "c=0\n",
    "for i in range(2,n):\n",
    "    if n%i==0:\n",
    "        c=1\n",
    "        break\n",
    "if c==0:\n",
    "    print(\"it is prime\")\n",
    "else:\n",
    "    print(\"it is not prime\")"
   ]
  },
  {
   "cell_type": "code",
   "execution_count": 18,
   "metadata": {},
   "outputs": [
    {
     "name": "stdout",
     "output_type": "stream",
     "text": [
      "Enter start range: 1\n",
      "Enter end range: 50\n",
      "prime numbers: \n",
      "1 2 3 5 7 11 13 17 19 23 29 31 37 41 43 47 "
     ]
    }
   ],
   "source": [
    "n1=int(input(\"Enter start range: \"))\n",
    "n2=int(input(\"Enter end range: \"))\n",
    "print(\"prime numbers: \")\n",
    "for n in range(n1,n2+1):\n",
    "    c=0\n",
    "    for i in range(2,n):\n",
    "        if n%i==0:\n",
    "            c=1\n",
    "    if c==0:\n",
    "        print(n,end=\" \")"
   ]
  }
 ],
 "metadata": {
  "kernelspec": {
   "display_name": "Python 3",
   "language": "python",
   "name": "python3"
  },
  "language_info": {
   "codemirror_mode": {
    "name": "ipython",
    "version": 3
   },
   "file_extension": ".py",
   "mimetype": "text/x-python",
   "name": "python",
   "nbconvert_exporter": "python",
   "pygments_lexer": "ipython3",
   "version": "3.8.5"
  }
 },
 "nbformat": 4,
 "nbformat_minor": 4
}
