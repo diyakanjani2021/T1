{
 "cells": [
  {
   "cell_type": "markdown",
   "metadata": {},
   "source": [
    "# Unit-2 Conditional executions and iterations\n"
   ]
  },
  {
   "cell_type": "markdown",
   "metadata": {},
   "source": [
    "1.Simple if\n",
    "---\n",
    "if condition:\n",
    "\n",
    "        statement\n",
    "       or\n",
    "if condition:\n",
    "\n",
    "        statement 1\n",
    "        statement 2\n",
    "        statement 3"
   ]
  },
  {
   "cell_type": "code",
   "execution_count": 7,
   "metadata": {},
   "outputs": [
    {
     "name": "stdout",
     "output_type": "stream",
     "text": [
      "enter name: ayan\n",
      "Hello Ayan!Good morning\n",
      "how are you?\n"
     ]
    }
   ],
   "source": [
    "name=input(\"enter name: \")\n",
    "if name==\"ayan\":\n",
    "    print(\"Hello Ayan!Good morning\")\n",
    "print(\"how are you?\")"
   ]
  },
  {
   "cell_type": "markdown",
   "metadata": {},
   "source": [
    "2.If-else\n",
    "---\n",
    "if condition:\n",
    "\n",
    "        Action 1\n",
    "else:\n",
    "\n",
    "        Action 2"
   ]
  },
  {
   "cell_type": "code",
   "execution_count": 10,
   "metadata": {},
   "outputs": [
    {
     "name": "stdout",
     "output_type": "stream",
     "text": [
      "enter name: nishi\n",
      "hello guest\n",
      "how are you?\n"
     ]
    }
   ],
   "source": [
    "name=input(\"enter name: \")\n",
    "if name==\"ayan\":\n",
    "    print(\"Hello Ayan!Good morning\")\n",
    "else:\n",
    "    print(\"hello guest\")    \n",
    "print(\"how are you?\")"
   ]
  },
  {
   "cell_type": "markdown",
   "metadata": {},
   "source": [
    "3.If-elif-else\n",
    "--\n",
    "if condition 1:\n",
    "\n",
    "    Action1\n",
    "elif condition 2:\n",
    "    \n",
    "    Action 2\n",
    "elif condition 3:\n",
    "    \n",
    "    Action 3\n",
    "....\n",
    "else:\n",
    "\n",
    "    Default condition"
   ]
  },
  {
   "cell_type": "code",
   "execution_count": 14,
   "metadata": {},
   "outputs": [
    {
     "name": "stdout",
     "output_type": "stream",
     "text": [
      "enter 1st no: 5\n",
      "enter 2nd no: 8\n",
      "enter 3rd no: 2\n",
      "Biggest number =  8\n"
     ]
    }
   ],
   "source": [
    "n=int(input(\"enter 1st no: \"))\n",
    "n1=int(input(\"enter 2nd no: \"))\n",
    "n2=int(input(\"enter 3rd no: \"))\n",
    "if n>n1 and n>n2:\n",
    "    print(\"Biggest number = \",n)\n",
    "elif n1>n and n1>n2:\n",
    "    print(\"Biggest number = \",n1)\n",
    "else:\n",
    "    print(\"Biggest number = \",n2)"
   ]
  },
  {
   "cell_type": "markdown",
   "metadata": {},
   "source": [
    "4.Nested-if\n",
    "---"
   ]
  },
  {
   "cell_type": "code",
   "execution_count": 15,
   "metadata": {},
   "outputs": [
    {
     "name": "stdout",
     "output_type": "stream",
     "text": [
      "above 10\n",
      "also above 20\n"
     ]
    }
   ],
   "source": [
    "x=41\n",
    "if x>10:\n",
    "    print(\"above 10\")\n",
    "    if x>20:\n",
    "        print(\"also above 20\")\n",
    "    else:\n",
    "        print(\"but not above 20\")"
   ]
  },
  {
   "cell_type": "markdown",
   "metadata": {},
   "source": [
    "Iterative statements:\n",
    "- for loop\n",
    "- while loop\n",
    "\n",
    "- for loop syntax:\n",
    "for x in sequence:\n",
    "        body\n",
    "- while loop syntax:"
   ]
  },
  {
   "cell_type": "code",
   "execution_count": 22,
   "metadata": {},
   "outputs": [
    {
     "name": "stdout",
     "output_type": "stream",
     "text": [
      "a b c "
     ]
    }
   ],
   "source": [
    "s=\"abc\"\n",
    "for i in s:\n",
    "    #print(i)\n",
    "    print(i,end=\" \")"
   ]
  },
  {
   "cell_type": "code",
   "execution_count": 41,
   "metadata": {},
   "outputs": [
    {
     "name": "stdout",
     "output_type": "stream",
     "text": [
      "1 2 3 4 5 \n",
      "\n",
      "1 2 3 4 5 "
     ]
    }
   ],
   "source": [
    "s=[1,2,3,4,5]\n",
    "for i in s:\n",
    "    #print(i)\n",
    "    print(i,end=\" \")\n",
    "print(\"\\n\")\n",
    "for i in  range(5):\n",
    "    print(s[i],end=\" \")"
   ]
  },
  {
   "cell_type": "code",
   "execution_count": 27,
   "metadata": {},
   "outputs": [
    {
     "name": "stdout",
     "output_type": "stream",
     "text": [
      "1 2 3 4 5 "
     ]
    }
   ],
   "source": [
    "for i in range(1,6):\n",
    "    print(i,end=\" \")"
   ]
  },
  {
   "cell_type": "code",
   "execution_count": 31,
   "metadata": {},
   "outputs": [
    {
     "name": "stdout",
     "output_type": "stream",
     "text": [
      "Hello ! Hello ! Hello ! Hello ! Hello ! "
     ]
    }
   ],
   "source": [
    "for i in range(5):\n",
    "    print(\"Hello\",end=\" ! \")"
   ]
  },
  {
   "cell_type": "code",
   "execution_count": 37,
   "metadata": {},
   "outputs": [
    {
     "name": "stdout",
     "output_type": "stream",
     "text": [
      "10 9 8 7 6 5 4 3 2 1 "
     ]
    }
   ],
   "source": [
    "for i in range(10,0,-1):\n",
    "    print(i,end=\" \")"
   ]
  },
  {
   "cell_type": "code",
   "execution_count": 44,
   "metadata": {},
   "outputs": [
    {
     "name": "stdout",
     "output_type": "stream",
     "text": [
      "12345"
     ]
    }
   ],
   "source": [
    "x=1\n",
    "while(x<=5):\n",
    "    print(x,end=\"\")\n",
    "    x+=1"
   ]
  },
  {
   "cell_type": "code",
   "execution_count": 46,
   "metadata": {},
   "outputs": [
    {
     "name": "stdout",
     "output_type": "stream",
     "text": [
      "i= 0 j= 0\n",
      "i= 0 j= 1\n",
      "i= 1 j= 0\n",
      "i= 1 j= 1\n"
     ]
    }
   ],
   "source": [
    "#nested loop:\n",
    "for i in range(2):\n",
    "    for j in range(2):\n",
    "        print(\"i=\",i,\"j=\",j)"
   ]
  },
  {
   "cell_type": "code",
   "execution_count": 48,
   "metadata": {},
   "outputs": [
    {
     "name": "stdout",
     "output_type": "stream",
     "text": [
      "0\n",
      "1\n",
      "2\n",
      "3\n",
      "4\n",
      "5\n",
      "6\n",
      "Stop here\n"
     ]
    }
   ],
   "source": [
    "#break statement:\n",
    "for i in range(10):\n",
    "    if(i==7):\n",
    "        print(\"Stop here\")\n",
    "        break\n",
    "    else:\n",
    "        print(i)"
   ]
  },
  {
   "cell_type": "code",
   "execution_count": 51,
   "metadata": {},
   "outputs": [
    {
     "name": "stdout",
     "output_type": "stream",
     "text": [
      "0\n",
      "1\n",
      "2\n",
      "3\n",
      "4\n",
      "5\n",
      "6\n",
      "skipped!\n",
      "8\n",
      "9\n"
     ]
    }
   ],
   "source": [
    "#continue statement:\n",
    "for i in range(10):\n",
    "    if(i==7):\n",
    "        print(\"skipped!\")\n",
    "        continue\n",
    "    else:\n",
    "        print(i)"
   ]
  },
  {
   "cell_type": "code",
   "execution_count": 54,
   "metadata": {},
   "outputs": [],
   "source": [
    "#pass statement:\n",
    "#if True: (error)\n",
    "if True:\n",
    "    pass"
   ]
  },
  {
   "cell_type": "code",
   "execution_count": 68,
   "metadata": {},
   "outputs": [
    {
     "name": "stdout",
     "output_type": "stream",
     "text": [
      "Sum =  55\n"
     ]
    }
   ],
   "source": [
    "#wap to find sum of n numbers\n",
    "n=10\n",
    "s=0\n",
    "for i in range(1,n+1):\n",
    "    s+=i\n",
    "print(\"Sum = \",s)"
   ]
  },
  {
   "cell_type": "code",
   "execution_count": 73,
   "metadata": {},
   "outputs": [
    {
     "name": "stdout",
     "output_type": "stream",
     "text": [
      "Enter year: 2025\n",
      "2025 is not leap year\n"
     ]
    }
   ],
   "source": [
    "#wap to check whether the given year is leap year or not\n",
    "y=int(input(\"Enter year: \"))\n",
    "if ((y%4==0 and y%100!=0) or (y%400==0)):\n",
    "    print(y ,\"is leap year\")\n",
    "else:\n",
    "    print(y ,\"is not leap year\")"
   ]
  },
  {
   "cell_type": "code",
   "execution_count": 89,
   "metadata": {},
   "outputs": [
    {
     "name": "stdout",
     "output_type": "stream",
     "text": [
      "enter a: 10\n",
      "enter b: 20\n",
      "1.+ 2.- 3.* 4./ 5.% 6.** 7.//\n",
      "enter your choice: 3\n",
      "a*b = 200\n"
     ]
    }
   ],
   "source": [
    "#wap to perform arithmetic operations\n",
    "a=int(input(\"enter a: \"))\n",
    "b=int(input(\"enter b: \"))\n",
    "print(\"1.+ 2.- 3.* 4./ 5.% 6.** 7.//\")\n",
    "n=int(input(\"enter your choice: \"))\n",
    "if n==1:\n",
    "      print(\"a+b =\",a+b)\n",
    "elif n==2:\n",
    "      print(\"a-b =\",a-b)\n",
    "elif n==3:\n",
    "      print(\"a*b =\",a*b)\n",
    "elif n==4:\n",
    "      print(\"a/b =\",a/b)\n",
    "elif n==5:\n",
    "      print(\"a%b =\",a%b)\n",
    "elif n==6:\n",
    "      print(\"a**b =\",a**b)\n",
    "elif n==7:\n",
    "      print(\"a//b =\",a//b)   \n",
    "else:\n",
    "      print(\"error\")"
   ]
  },
  {
   "cell_type": "code",
   "execution_count": 90,
   "metadata": {},
   "outputs": [
    {
     "name": "stdout",
     "output_type": "stream",
     "text": [
      "Enter attendance in %: 80\n",
      "marks after bonus:  12.0\n"
     ]
    }
   ],
   "source": [
    "#wap to enter attendance of student in % and print bonus marks 15% if it is greater than 70%\n",
    "a=int(input(\"Enter attendance in %: \"))\n",
    "if a>70:\n",
    "    print(\"marks after bonus: \",a*15/100)\n",
    "else:\n",
    "    print(\"not elligible for bonus!\")\n",
    "    print(\"marks w/o bonus: \",a)"
   ]
  },
  {
   "cell_type": "code",
   "execution_count": 1,
   "metadata": {},
   "outputs": [
    {
     "name": "stdout",
     "output_type": "stream",
     "text": [
      "enter marks for 1st sub: 56\n",
      "enter marks for 2nd sub: 69\n",
      "enter marks for 3rd sub: 58\n",
      "first\n"
     ]
    }
   ],
   "source": [
    "#wap to enter 3 sub marks, calculate the % and display the grade\n",
    "a=int(input(\"enter marks for 1st sub: \"))\n",
    "b=int(input(\"enter marks for 2nd sub: \"))\n",
    "c=int(input(\"enter marks for 3rd sub: \"))\n",
    "t1=a+b+c\n",
    "t=t1/3\n",
    "if t>80 and t<100:\n",
    "    print(\"distinction\")\n",
    "elif t>60 and t<79:\n",
    "    print(\"first\")\n",
    "elif t>35 and t<59:\n",
    "    print(\"second\")\n",
    "elif t>0 and t<34:\n",
    "    print(\"fail\")    \n",
    "else:\n",
    "    print(\"enter correctly\")"
   ]
  }
 ],
 "metadata": {
  "kernelspec": {
   "display_name": "Python 3",
   "language": "python",
   "name": "python3"
  },
  "language_info": {
   "codemirror_mode": {
    "name": "ipython",
    "version": 3
   },
   "file_extension": ".py",
   "mimetype": "text/x-python",
   "name": "python",
   "nbconvert_exporter": "python",
   "pygments_lexer": "ipython3",
   "version": "3.8.5"
  }
 },
 "nbformat": 4,
 "nbformat_minor": 4
}
